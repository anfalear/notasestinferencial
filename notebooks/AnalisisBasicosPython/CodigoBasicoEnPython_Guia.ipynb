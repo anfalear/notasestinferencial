{
 "cells": [
  {
   "cell_type": "markdown",
   "id": "96b60af6",
   "metadata": {},
   "source": [
    "Introducción, Fundamentos y Herramientas para el Análisis de Datos con Python: Manual corto del análisis de datos en Python"
   ]
  },
  {
   "cell_type": "markdown",
   "id": "9d47c590",
   "metadata": {},
   "source": [
    "1. Introducción a la Programación y Estructuras de Datos en Python\n",
    "1.1 Fundamentos de Python"
   ]
  },
  {
   "cell_type": "markdown",
   "id": "da324375",
   "metadata": {},
   "source": [
    "1.1 Tipos de datos básicos y ejemplos:"
   ]
  },
  {
   "cell_type": "code",
   "execution_count": 1,
   "id": "0a8415c1",
   "metadata": {},
   "outputs": [],
   "source": [
    "# Números\n",
    "entero = 10            # int\n",
    "decimal = 3.14         # float\n",
    "complejo = 2 + 3j      # complex\n",
    "\n",
    "# Cadenas\n",
    "texto = \"Hola, mundo\"  # str\n",
    "\n",
    "# Listas\n",
    "lista = [1, 2, 3, 4]\n",
    "\n",
    "# Tuplas\n",
    "tupla = (1, 2, 3)\n",
    "\n",
    "# Conjuntos\n",
    "conjunto = {1, 2, 3}\n",
    "\n",
    "# Diccionarios\n",
    "diccionario = {\"nombre\": \"Ana\", \"edad\": 28}\n",
    "\n",
    "# Booleanos\n",
    "es_mayor = True\n",
    "\n",
    "# Nulo\n",
    "nada = None\n"
   ]
  },
  {
   "cell_type": "markdown",
   "id": "09b1f9e1",
   "metadata": {},
   "source": [
    "1.2 Ejemplos de usos de listas y diccionarios"
   ]
  },
  {
   "cell_type": "code",
   "execution_count": 2,
   "id": "216eb76d",
   "metadata": {},
   "outputs": [
    {
     "name": "stdout",
     "output_type": "stream",
     "text": [
      "['manzana', 'banana', 'cereza', 'kiwi']\n",
      "{'nombre': 'Carlos', 'edad': 25, 'ciudad': 'Bogotá', 'profesión': 'Ingeniero'}\n"
     ]
    }
   ],
   "source": [
    "# Lista\n",
    "frutas = [\"manzana\", \"banana\", \"cereza\"]\n",
    "frutas.append(\"kiwi\")\n",
    "print(frutas)  # ['manzana', 'banana', 'cereza', 'kiwi']\n",
    "\n",
    "# Diccionario\n",
    "persona = {\"nombre\": \"Carlos\", \"edad\": 25, \"ciudad\": \"Bogotá\"}\n",
    "persona[\"profesión\"] = \"Ingeniero\"\n",
    "print(persona)"
   ]
  },
  {
   "cell_type": "markdown",
   "id": "7c64331d",
   "metadata": {
    "vscode": {
     "languageId": "plaintext"
    }
   },
   "source": [
    "1.2 Operaciones básicas (CRUD)\n"
   ]
  },
  {
   "cell_type": "code",
   "execution_count": 3,
   "id": "825e7bd0",
   "metadata": {},
   "outputs": [
    {
     "name": "stdout",
     "output_type": "stream",
     "text": [
      "1\n",
      "[1, 20, 4]\n"
     ]
    }
   ],
   "source": [
    "# Create\n",
    "numeros = [1, 2, 3]\n",
    "numeros.append(4)  # Añadir elemento\n",
    "\n",
    "# Read\n",
    "print(numeros[0])  # Acceder por índice\n",
    "\n",
    "# Update\n",
    "numeros[1] = 20    # Modificar valor\n",
    "\n",
    "# Delete\n",
    "del numeros[2]     # Eliminar elemento\n",
    "print(numeros)\n"
   ]
  },
  {
   "cell_type": "markdown",
   "id": "38409f92",
   "metadata": {},
   "source": [
    "1.3 Buenas Prácticas de Programación\n",
    "Usa nombres descriptivos: total_ventas en vez de tv.\n",
    "\n",
    "Comenta el código donde sea necesario.\n",
    "\n",
    "Divide el código en funciones reutilizables.\n",
    "\n",
    "Maneja errores con try-except.\n",
    "\n",
    "Mantén un estilo consistente (PEP8)."
   ]
  },
  {
   "cell_type": "code",
   "execution_count": 4,
   "id": "dec8071e",
   "metadata": {},
   "outputs": [],
   "source": [
    "def calcular_promedio(lista):\n",
    "    \"\"\"Calcula el promedio de una lista de números.\"\"\"\n",
    "    if not lista:\n",
    "        return None\n",
    "    return sum(lista) / len(lista)\n"
   ]
  },
  {
   "cell_type": "markdown",
   "id": "02bacc64",
   "metadata": {},
   "source": [
    "2. Fundamentos del Análisis y Limpieza de Datos\n",
    "2.1 Proceso de Análisis de Datos"
   ]
  },
  {
   "cell_type": "code",
   "execution_count": 6,
   "id": "b97ecc79",
   "metadata": {},
   "outputs": [
    {
     "name": "stdout",
     "output_type": "stream",
     "text": [
      "  ESTU_TIPODOCUMENTO ESTU_NACIONALIDAD ESTU_GENERO ESTU_FECHANACIMIENTO  \\\n",
      "1                 CC          COLOMBIA           M       9/11/2002 0:00   \n",
      "2                 TI          COLOMBIA           F      10/11/2002 0:00   \n",
      "3                 TI          COLOMBIA           F       2/25/2004 0:00   \n",
      "4                 TI          COLOMBIA           F       7/27/2002 0:00   \n",
      "7                 TI          COLOMBIA           M       8/21/2002 0:00   \n",
      "\n",
      "   PERIODO  ESTU_CONSECUTIVO ESTU_ESTUDIANTE ESTU_PAIS_RESIDE ESTU_TIENEETNIA  \\\n",
      "1    20204  SB11202040136621      ESTUDIANTE         COLOMBIA              No   \n",
      "2    20204  SB11202040089598      ESTUDIANTE         COLOMBIA              No   \n",
      "3    20204  SB11202040034744      ESTUDIANTE         COLOMBIA              No   \n",
      "4    20204  SB11202040035751      ESTUDIANTE         COLOMBIA              No   \n",
      "7    20204  SB11202040550093      ESTUDIANTE         COLOMBIA              No   \n",
      "\n",
      "  ESTU_DEPTO_RESIDE  ...  PUNT_INGLES PERCENTIL_INGLES  DESEMP_INGLES  \\\n",
      "1            BOYACA  ...         52.0               75             A1   \n",
      "2           CORDOBA  ...         49.0               66             A1   \n",
      "3            BOGOTÁ  ...         68.0               94             B1   \n",
      "4            TOLIMA  ...         79.0               99             B+   \n",
      "7              META  ...         35.0               12             A-   \n",
      "\n",
      "  PUNT_GLOBAL PERCENTIL_GLOBAL ESTU_INSE_INDIVIDUAL ESTU_NSE_INDIVIDUAL  \\\n",
      "1         322               93            55.298911                 3.0   \n",
      "2         220               31            44.642095                 2.0   \n",
      "3         328               94            59.780326                 3.0   \n",
      "4         360               99            70.067352                 4.0   \n",
      "7         210               24            55.587395                 3.0   \n",
      "\n",
      "  ESTU_NSE_ESTABLECIMIENTO ESTU_ESTADOINVESTIGACION         ESTU_GENERACION-E  \n",
      "1                        3                 PUBLICAR  GENERACION E - GRATUIDAD  \n",
      "2                        2                 PUBLICAR                        NO  \n",
      "3                        3                 PUBLICAR                        NO  \n",
      "4                        4                 PUBLICAR                        NO  \n",
      "7                        3                 PUBLICAR                        NO  \n",
      "\n",
      "[5 rows x 81 columns]\n"
     ]
    }
   ],
   "source": [
    "# Recolección\n",
    "import pandas as pd\n",
    "df = pd.read_csv('datosicfessaber11202002.csv')\n",
    "\n",
    "# Limpieza\n",
    "df = df.dropna()\n",
    "\n",
    "# Exploración\n",
    "print(df.head())\n",
    "\n",
    "# Modelado, Evaluación, Visualización e Interpretación se desarrollan en pasos posteriores.\n"
   ]
  },
  {
   "cell_type": "markdown",
   "id": "380d7713",
   "metadata": {},
   "source": [
    "2.2 tipos de datos "
   ]
  },
  {
   "cell_type": "code",
   "execution_count": 7,
   "id": "791cc53f",
   "metadata": {},
   "outputs": [],
   "source": [
    "# Cualitativos (Nominales)\n",
    "colores = [\"rojo\", \"azul\", \"verde\"]\n",
    "\n",
    "# Cualitativos (Ordinales)\n",
    "tallas = [\"S\", \"M\", \"L\", \"XL\"]\n",
    "\n",
    "# Cuantitativos (Discretos)\n",
    "edades = [23, 25, 30]\n",
    "\n",
    "# Cuantitativos (Continuos)\n",
    "pesos = [60.5, 70.2, 68.0]\n",
    "\n",
    "# Binarios\n",
    "respuesta = [0, 1, 1, 0]\n",
    "\n",
    "# Estructurados\n",
    "import pandas as pd\n",
    "df = pd.DataFrame({\"Nombre\": [\"Ana\", \"Luis\"], \"Edad\": [23, 30]})\n",
    "\n",
    "# No estructurados\n",
    "texto_largo = \"Este es un texto libre...\"\n",
    "\n",
    "# Semiestructurados\n",
    "import json\n",
    "dato_json = '{\"nombre\": \"Ana\", \"edad\": 23}'\n"
   ]
  },
  {
   "cell_type": "markdown",
   "id": "d9cf9b4a",
   "metadata": {},
   "source": [
    "2.3 Estadísticos descriptivos"
   ]
  },
  {
   "cell_type": "code",
   "execution_count": 8,
   "id": "05caba23",
   "metadata": {},
   "outputs": [
    {
     "name": "stdout",
     "output_type": "stream",
     "text": [
      "Media: 12.076923076923077\n",
      "Mediana: 5.0\n",
      "Moda: 5\n",
      "Desviación estándar: 26.52502446892223\n",
      "Rango: 99\n",
      "Varianza: 703.576923076923\n",
      "Percentil 25: 3.0\n",
      "Cuartil 3: 7.0\n",
      "Coeficiente de variación: 2.196339605706936\n"
     ]
    }
   ],
   "source": [
    "import pandas as pd\n",
    "\n",
    "df = pd.DataFrame({'Valores': [1, 2, 2, 3, 4, 5, 5, 5, 6, 7, 8, 9, 100]})\n",
    "print(\"Media:\", df['Valores'].mean())\n",
    "print(\"Mediana:\", df['Valores'].median())\n",
    "print(\"Moda:\", df['Valores'].mode()[0])\n",
    "print(\"Desviación estándar:\", df['Valores'].std())\n",
    "print(\"Rango:\", df['Valores'].max() - df['Valores'].min())\n",
    "print(\"Varianza:\", df['Valores'].var())\n",
    "print(\"Percentil 25:\", df['Valores'].quantile(0.25))\n",
    "print(\"Cuartil 3:\", df['Valores'].quantile(0.75))\n",
    "print(\"Coeficiente de variación:\", df['Valores'].std() / df['Valores'].mean())\n"
   ]
  },
  {
   "cell_type": "markdown",
   "id": "135b4458",
   "metadata": {},
   "source": [
    "2.4 Distribuciones de probabilidad"
   ]
  },
  {
   "cell_type": "code",
   "execution_count": 9,
   "id": "86f8f920",
   "metadata": {},
   "outputs": [
    {
     "data": {
      "image/png": "[encoded data removed]",
      "text/plain": [
       "<Figure size 640x480 with 1 Axes>"
      ]
     },
     "metadata": {},
     "output_type": "display_data"
    },
    {
     "data": {
      "image/png": "[encoded data removed]",
      "text/plain": [
       "<Figure size 640x480 with 1 Axes>"
      ]
     },
     "metadata": {},
     "output_type": "display_data"
    },
    {
     "data": {
      "image/png": "[encoded data removed]",
      "text/plain": [
       "<Figure size 640x480 with 1 Axes>"
      ]
     },
     "metadata": {},
     "output_type": "display_data"
    }
   ],
   "source": [
    "import numpy as np\n",
    "import matplotlib.pyplot as plt\n",
    "\n",
    "# Normal\n",
    "datos_norm = np.random.normal(loc=0, scale=1, size=1000)\n",
    "plt.hist(datos_norm, bins=30)\n",
    "plt.title(\"Distribución Normal\")\n",
    "plt.show()\n",
    "\n",
    "# Sesgada\n",
    "datos_sesgados = np.random.exponential(scale=2, size=1000)\n",
    "plt.hist(datos_sesgados, bins=30)\n",
    "plt.title(\"Distribución Sesgada\")\n",
    "plt.show()\n",
    "\n",
    "# Uniforme\n",
    "datos_uniformes = np.random.uniform(low=0, high=10, size=1000)\n",
    "plt.hist(datos_uniformes, bins=30)\n",
    "plt.title(\"Distribución Uniforme\")\n",
    "plt.show()\n"
   ]
  },
  {
   "cell_type": "markdown",
   "id": "7bdb9838",
   "metadata": {},
   "source": [
    "2.5 Visualización estadística"
   ]
  },
  {
   "cell_type": "code",
   "execution_count": 10,
   "id": "d2283b19",
   "metadata": {},
   "outputs": [
    {
     "data": {
      "image/png": "[encoded data removed]",
      "text/plain": [
       "<Figure size 640x480 with 1 Axes>"
      ]
     },
     "metadata": {},
     "output_type": "display_data"
    },
    {
     "data": {
      "image/png": "[encoded data removed]",
      "text/plain": [
       "<Figure size 640x480 with 1 Axes>"
      ]
     },
     "metadata": {},
     "output_type": "display_data"
    },
    {
     "data": {
      "image/png": "[encoded data removed]",
      "text/plain": [
       "<Figure size 640x480 with 1 Axes>"
      ]
     },
     "metadata": {},
     "output_type": "display_data"
    },
    {
     "data": {
      "image/png": "[encoded data removed]",
      "text/plain": [
       "<Figure size 640x480 with 1 Axes>"
      ]
     },
     "metadata": {},
     "output_type": "display_data"
    },
    {
     "data": {
      "image/png": "[encoded data removed]",
      "text/plain": [
       "<Figure size 640x480 with 1 Axes>"
      ]
     },
     "metadata": {},
     "output_type": "display_data"
    },
    {
     "data": {
      "image/png": "[encoded data removed]",
      "text/plain": [
       "<Figure size 640x480 with 1 Axes>"
      ]
     },
     "metadata": {},
     "output_type": "display_data"
    }
   ],
   "source": [
    "import matplotlib.pyplot as plt\n",
    "\n",
    "valores = [1, 2, 2, 3, 4, 5, 5, 5, 6, 7, 8, 9, 100]\n",
    "\n",
    "# Gráfico de barras\n",
    "plt.bar(range(len(valores)), valores)\n",
    "plt.title('Gráfico de Barras')\n",
    "plt.show()\n",
    "\n",
    "# Histograma\n",
    "plt.hist(valores, bins=10)\n",
    "plt.title('Histograma')\n",
    "plt.show()\n",
    "\n",
    "# Gráfico de líneas\n",
    "plt.plot(valores)\n",
    "plt.title('Gráfico de Líneas')\n",
    "plt.show()\n",
    "\n",
    "# Gráfico de dispersión\n",
    "plt.scatter(range(len(valores)), valores)\n",
    "plt.title('Gráfico de Dispersión')\n",
    "plt.show()\n",
    "\n",
    "# Gráfico de pastel\n",
    "import numpy as np\n",
    "etiquetas = ['A', 'B', 'C']\n",
    "valores_pie = [40, 35, 25]\n",
    "plt.pie(valores_pie, labels=etiquetas, autopct='%1.1f%%')\n",
    "plt.title('Gráfico de Pastel')\n",
    "plt.show()\n",
    "\n",
    "# Boxplot\n",
    "plt.boxplot(valores)\n",
    "plt.title('Boxplot')\n",
    "plt.show()\n"
   ]
  },
  {
   "cell_type": "markdown",
   "id": "0f69ee23",
   "metadata": {},
   "source": [
    "3. Limpieza y preprocesamiento de datos"
   ]
  },
  {
   "cell_type": "markdown",
   "id": "d7438827",
   "metadata": {},
   "source": [
    "3.1 Técnicas de limpieza "
   ]
  },
  {
   "cell_type": "code",
   "execution_count": 11,
   "id": "63ba8841",
   "metadata": {},
   "outputs": [
    {
     "name": "stderr",
     "output_type": "stream",
     "text": [
      "C:\\Users\\anfalear\\AppData\\Local\\Temp\\ipykernel_17448\\2737091165.py:8: FutureWarning: A value is trying to be set on a copy of a DataFrame or Series through chained assignment using an inplace method.\n",
      "The behavior will change in pandas 3.0. This inplace method will never work because the intermediate object on which we are setting values always behaves as a copy.\n",
      "\n",
      "For example, when doing 'df[col].method(value, inplace=True)', try using 'df.method({col: value}, inplace=True)' or df[col] = df[col].method(value) instead, to perform the operation inplace on the original object.\n",
      "\n",
      "\n",
      "  df['A'].fillna(df['A'].mean(), inplace=True)\n"
     ]
    }
   ],
   "source": [
    "import pandas as pd\n",
    "\n",
    "# Eliminación de duplicados\n",
    "df = pd.DataFrame({'A': [1, 2, 2, 4], 'B': [1, 2, 2, 4]})\n",
    "df = df.drop_duplicates()\n",
    "\n",
    "# Manejo de valores faltantes\n",
    "df['A'].fillna(df['A'].mean(), inplace=True)\n",
    "\n",
    "# Corrección de errores tipográficos\n",
    "df['B'] = df['B'].replace('erro', 0)\n",
    "\n",
    "# Conversión de tipos de datos\n",
    "df['A'] = df['A'].astype(float)\n"
   ]
  },
  {
   "cell_type": "markdown",
   "id": "0f45a1d2",
   "metadata": {},
   "source": [
    "3.2 Identificación y tratamiento de outliers"
   ]
  },
  {
   "cell_type": "code",
   "execution_count": 12,
   "id": "e351b299",
   "metadata": {},
   "outputs": [],
   "source": [
    "# Z-score\n",
    "from scipy.stats import zscore\n",
    "df['zscore'] = zscore(df['A'])\n",
    "outliers = df[df['zscore'].abs() > 3]\n",
    "\n",
    "# IQR\n",
    "Q1 = df['A'].quantile(0.25)\n",
    "Q3 = df['A'].quantile(0.75)\n",
    "IQR = Q3 - Q1\n",
    "outliers_iqr = df[(df['A'] < Q1 - 1.5 * IQR) | (df['A'] > Q3 + 1.5 * IQR)]\n"
   ]
  },
  {
   "cell_type": "markdown",
   "id": "37399260",
   "metadata": {},
   "source": [
    "3.2 Preprocesamiento "
   ]
  },
  {
   "cell_type": "code",
   "execution_count": null,
   "id": "553beb04",
   "metadata": {},
   "outputs": [],
   "source": [
    "from sklearn.preprocessing import MinMaxScaler, StandardScaler, OneHotEncoder\n",
    "import numpy as np\n",
    "\n",
    "# Normalización\n",
    "scaler = MinMaxScaler()\n",
    "df['A_norm'] = scaler.fit_transform(df[['A']])\n",
    "\n",
    "# Estandarización\n",
    "scaler_std = StandardScaler()\n",
    "df['A_std'] = scaler_std.fit_transform(df[['A']])\n",
    "\n",
    "# Transformación logarítmica\n",
    "df['A_log'] = np.log(df['A'] + 1)\n",
    "\n",
    "# Codificación de variables categóricas\n",
    "df_cat = pd.DataFrame({'color': ['rojo', 'azul', 'verde']})\n",
    "encoder = OneHotEncoder(sparse=False)\n",
    "onehot = encoder.fit_transform(df_cat[['color']])\n",
    "print(onehot)\n"
   ]
  },
  {
   "cell_type": "markdown",
   "id": "e7c2bdfd",
   "metadata": {},
   "source": [
    "4. Manipulación y análisis básicos con pandas"
   ]
  },
  {
   "cell_type": "markdown",
   "id": "357137eb",
   "metadata": {},
   "source": [
    "4.1 Lectura y Escritura de Datos"
   ]
  },
  {
   "cell_type": "code",
   "execution_count": null,
   "id": "22457dea",
   "metadata": {},
   "outputs": [],
   "source": [
    "import pandas as pd\n",
    "\n",
    "# CSV\n",
    "df = pd.read_csv('archivo.csv')\n",
    "df.to_csv('archivo_guardado.csv', index=False)\n",
    "\n",
    "# Excel\n",
    "df = pd.read_excel('archivo.xlsx')\n",
    "df.to_excel('archivo_guardado.xlsx', index=False)\n",
    "\n",
    "# SQL (requiere conexión)\n",
    "# import sqlite3\n",
    "# conn = sqlite3.connect('base.db')\n",
    "# df = pd.read_sql_query('SELECT * FROM tabla', conn)\n",
    "# df.to_sql('tabla_nueva', conn, index=False)\n"
   ]
  },
  {
   "cell_type": "markdown",
   "id": "bf9b0791",
   "metadata": {},
   "source": [
    "4.2 series y dataframes "
   ]
  },
  {
   "cell_type": "code",
   "execution_count": null,
   "id": "84e9f860",
   "metadata": {},
   "outputs": [],
   "source": [
    "import pandas as pd\n",
    "\n",
    "# Serie\n",
    "serie = pd.Series([10, 20, 30, 40])\n",
    "print(serie)\n",
    "\n",
    "# DataFrame\n",
    "data = {'Nombre': ['Ana', 'Carlos'], 'Edad': [23, 35]}\n",
    "df = pd.DataFrame(data)\n",
    "print(df)\n"
   ]
  },
  {
   "cell_type": "markdown",
   "id": "59bd5fe7",
   "metadata": {},
   "source": [
    "4.3 Manipulación de dataframes"
   ]
  },
  {
   "cell_type": "code",
   "execution_count": null,
   "id": "3733e225",
   "metadata": {},
   "outputs": [],
   "source": [
    "# Agregar columna\n",
    "df['Ciudad'] = ['Lima', 'Bogotá']\n",
    "\n",
    "# Filtrar datos\n",
    "mayores_25 = df[df['Edad'] > 25]\n",
    "\n",
    "# Seleccionar columnas\n",
    "solo_nombres = df['Nombre']\n",
    "\n",
    "# Agrupar y resumir\n",
    "resumen = df.groupby('Ciudad')['Edad'].mean()\n",
    "print(resumen)\n"
   ]
  },
  {
   "cell_type": "markdown",
   "id": "744b70b7",
   "metadata": {},
   "source": [
    "5. Manipulación de datos"
   ]
  },
  {
   "cell_type": "code",
   "execution_count": null,
   "id": "ff6e3991",
   "metadata": {},
   "outputs": [],
   "source": [
    "import matplotlib.pyplot as plt\n",
    "\n",
    "x = [1, 2, 3, 4, 5]\n",
    "y = [2, 3, 5, 7, 11]\n",
    "plt.plot(x, y)\n",
    "plt.title('Gráfico de líneas')\n",
    "plt.xlabel('Eje X')\n",
    "plt.ylabel('Eje Y')\n",
    "plt.show()\n"
   ]
  },
  {
   "cell_type": "code",
   "execution_count": null,
   "id": "4748bcfa",
   "metadata": {},
   "outputs": [],
   "source": [
    "import seaborn as sns\n",
    "import matplotlib.pyplot as plt\n",
    "\n",
    "# Dataset de ejemplo\n",
    "df = sns.load_dataset('tips')\n",
    "\n",
    "# Gráfico de dispersión\n",
    "sns.scatterplot(data=df, x='total_bill', y='tip', hue='day')\n",
    "plt.title('Propina vs Total de la Cuenta')\n",
    "plt.show()\n",
    "\n",
    "# Boxplot\n",
    "sns.boxplot(data=df, x='day', y='total_bill')\n",
    "plt.title('Total de la Cuenta por Día')\n",
    "plt.show()\n",
    "\n",
    "# Heatmap\n",
    "tabla = df.pivot_table(values='tip', index='day', columns='sex', aggfunc='mean')\n",
    "sns.heatmap(tabla, annot=True)\n",
    "plt.title('Propina Promedio por Día y Sexo')\n",
    "plt.show()\n"
   ]
  },
  {
   "cell_type": "markdown",
   "id": "3c6e1273",
   "metadata": {},
   "source": [
    "6. Ejemplo real: estadística descriptiva"
   ]
  },
  {
   "cell_type": "code",
   "execution_count": null,
   "id": "f4f31b7a",
   "metadata": {},
   "outputs": [],
   "source": [
    "import pandas as pd\n",
    "\n",
    "# Ejemplo con datos ficticios\n",
    "df = pd.DataFrame({\n",
    "    'Peso (g)': [3200, 3500, 2900, 4100, 3000],\n",
    "    'Talla (cm)': [50, 52, 49, 54, 51],\n",
    "    'Semanas de Gestación': [39, 40, 38, 41, 39],\n",
    "    'Consultas Prenatales': [7, 8, 5, 10, 6]\n",
    "})\n",
    "\n",
    "print(df.describe())\n"
   ]
  },
  {
   "cell_type": "markdown",
   "id": "99004cff",
   "metadata": {},
   "source": [
    "7. Ejercicios Prácticos y Aplicaciones\n",
    "Manipula listas y diccionarios (agrega, elimina, actualiza).\n",
    "\n",
    "Limpia un DataFrame con valores faltantes y duplicados.\n",
    "\n",
    "Calcula estadísticas descriptivas con pandas.\n",
    "\n",
    "Visualiza datos con matplotlib y seaborn.\n",
    "\n",
    "Agrupa y cuenta registros por categoría.\n",
    "\n",
    "Presenta resultados en tablas y gráficos."
   ]
  },
  {
   "cell_type": "markdown",
   "id": "acd1f71f",
   "metadata": {},
   "source": [
    "8. Conclusiones \n",
    "Python y sus librerías permiten abordar el ciclo completo del análisis de datos.\n",
    "\n",
    "La limpieza y preprocesamiento son pasos esenciales.\n",
    "\n",
    "La visualización facilita la comunicación de resultados.\n",
    "\n",
    "Practica cada sección para dominar el flujo de trabajo en análisis de datos."
   ]
  }
 ],
 "metadata": {
  "kernelspec": {
   "display_name": "Python 3",
   "language": "python",
   "name": "python3"
  },
  "language_info": {
   "codemirror_mode": {
    "name": "ipython",
    "version": 3
   },
   "file_extension": ".py",
   "mimetype": "text/x-python",
   "name": "python",
   "nbconvert_exporter": "python",
   "pygments_lexer": "ipython3",
   "version": "3.13.1"
  }
 },
 "nbformat": 4,
 "nbformat_minor": 5
}
